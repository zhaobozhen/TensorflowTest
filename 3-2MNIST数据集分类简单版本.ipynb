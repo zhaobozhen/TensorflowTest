{
 "cells": [
  {
   "cell_type": "code",
   "execution_count": 3,
   "metadata": {},
   "outputs": [],
   "source": [
    "import tensorflow as tf\n",
    "from tensorflow.examples.tutorials.mnist import input_data"
   ]
  },
  {
   "cell_type": "code",
   "execution_count": 11,
   "metadata": {},
   "outputs": [
    {
     "name": "stdout",
     "output_type": "stream",
     "text": [
      "Extracting MNIST_data\\train-images-idx3-ubyte.gz\n",
      "Extracting MNIST_data\\train-labels-idx1-ubyte.gz\n",
      "Extracting MNIST_data\\t10k-images-idx3-ubyte.gz\n",
      "Extracting MNIST_data\\t10k-labels-idx1-ubyte.gz\n",
      "Iter 0 Testing Accuracy 0.9087\n",
      "Iter 1 Testing Accuracy 0.9155\n",
      "Iter 2 Testing Accuracy 0.919\n",
      "Iter 3 Testing Accuracy 0.9208\n",
      "Iter 4 Testing Accuracy 0.9206\n",
      "Iter 5 Testing Accuracy 0.9209\n",
      "Iter 6 Testing Accuracy 0.9235\n",
      "Iter 7 Testing Accuracy 0.9216\n",
      "Iter 8 Testing Accuracy 0.9241\n",
      "Iter 9 Testing Accuracy 0.9227\n",
      "Iter 10 Testing Accuracy 0.9227\n",
      "Iter 11 Testing Accuracy 0.9229\n",
      "Iter 12 Testing Accuracy 0.9221\n",
      "Iter 13 Testing Accuracy 0.9253\n",
      "Iter 14 Testing Accuracy 0.9244\n",
      "Iter 15 Testing Accuracy 0.925\n",
      "Iter 16 Testing Accuracy 0.9225\n",
      "Iter 17 Testing Accuracy 0.9225\n",
      "Iter 18 Testing Accuracy 0.9222\n",
      "Iter 19 Testing Accuracy 0.9247\n",
      "Iter 20 Testing Accuracy 0.9251\n"
     ]
    }
   ],
   "source": [
    "mnist = input_data.read_data_sets(\"MNIST_data\", one_hot=True)\n",
    "batch_size = 100\n",
    "n_batch = mnist.train.num_examples // batch_size\n",
    "\n",
    "x = tf.placeholder(tf.float32, [None, 784])\n",
    "y = tf.placeholder(tf.float32, [None, 10])\n",
    "\n",
    "W = tf.Variable(tf.zeros([784, 10]))\n",
    "b = tf.Variable(tf.zeros([10]))\n",
    "prediction = tf.matmul(x, W) + b\n",
    "\n",
    "loss = tf.reduce_mean(tf.nn.softmax_cross_entropy_with_logits_v2(labels=y, logits=prediction))\n",
    "train_step = tf.train.GradientDescentOptimizer(0.2).minimize(loss)\n",
    "\n",
    "init = tf.global_variables_initializer()\n",
    "correct_prediction = tf.equal(tf.argmax(y, 1), tf.argmax(prediction, 1))\n",
    "\n",
    "accuracy = tf.reduce_mean(tf.cast(correct_prediction, tf.float32))\n",
    "\n",
    "with tf.Session() as sess:\n",
    "    sess.run(init)\n",
    "    for epoch in range(21):\n",
    "        for batch in range(n_batch):\n",
    "            batch_xs, batch_ys = mnist.train.next_batch(batch_size)\n",
    "            sess.run(train_step, feed_dict={x:batch_xs, y:batch_ys})\n",
    "            \n",
    "        acc = sess.run(accuracy, feed_dict={x:mnist.test.images, y:mnist.test.labels})\n",
    "        print(\"Iter \" + str(epoch) + \" Testing Accuracy \" + str(acc))"
   ]
  },
  {
   "cell_type": "code",
   "execution_count": null,
   "metadata": {},
   "outputs": [],
   "source": [
    "Iter 0 Testing Accuracy 0.8301\n",
    "Iter 1 Testing Accuracy 0.8713\n",
    "Iter 2 Testing Accuracy 0.8818\n",
    "Iter 3 Testing Accuracy 0.8876\n",
    "Iter 4 Testing Accuracy 0.8936\n",
    "Iter 5 Testing Accuracy 0.8963\n",
    "Iter 6 Testing Accuracy 0.8994\n",
    "Iter 7 Testing Accuracy 0.9014\n",
    "Iter 8 Testing Accuracy 0.9032\n",
    "Iter 9 Testing Accuracy 0.9049\n",
    "Iter 10 Testing Accuracy 0.9064\n",
    "Iter 11 Testing Accuracy 0.907\n",
    "Iter 12 Testing Accuracy 0.9079\n",
    "Iter 13 Testing Accuracy 0.9094\n",
    "Iter 14 Testing Accuracy 0.9098\n",
    "Iter 15 Testing Accuracy 0.9108\n",
    "Iter 16 Testing Accuracy 0.9114\n",
    "Iter 17 Testing Accuracy 0.9118\n",
    "Iter 18 Testing Accuracy 0.9125\n",
    "Iter 19 Testing Accuracy 0.9132\n",
    "Iter 20 Testing Accuracy 0.9141"
   ]
  },
  {
   "cell_type": "code",
   "execution_count": null,
   "metadata": {},
   "outputs": [],
   "source": []
  }
 ],
 "metadata": {
  "kernelspec": {
   "display_name": "Python 3",
   "language": "python",
   "name": "python3"
  },
  "language_info": {
   "codemirror_mode": {
    "name": "ipython",
    "version": 3
   },
   "file_extension": ".py",
   "mimetype": "text/x-python",
   "name": "python",
   "nbconvert_exporter": "python",
   "pygments_lexer": "ipython3",
   "version": "3.6.7"
  }
 },
 "nbformat": 4,
 "nbformat_minor": 2
}
