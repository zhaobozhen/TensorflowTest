{
 "cells": [
  {
   "cell_type": "code",
   "execution_count": 1,
   "metadata": {},
   "outputs": [],
   "source": [
    "import tensorflow as tf\n",
    "from tensorflow.examples.tutorials.mnist import input_data"
   ]
  },
  {
   "cell_type": "code",
   "execution_count": 8,
   "metadata": {},
   "outputs": [
    {
     "name": "stdout",
     "output_type": "stream",
     "text": [
      "Extracting MNIST_data\\train-images-idx3-ubyte.gz\n",
      "Extracting MNIST_data\\train-labels-idx1-ubyte.gz\n",
      "Extracting MNIST_data\\t10k-images-idx3-ubyte.gz\n",
      "Extracting MNIST_data\\t10k-labels-idx1-ubyte.gz\n",
      "Iter 0 Testing Accuracy 0.8417Training Accuracy 0.8420727\n",
      "Iter 1 Testing Accuracy 0.9203Training Accuracy 0.92063636\n",
      "Iter 2 Testing Accuracy 0.9263Training Accuracy 0.92947274\n",
      "Iter 3 Testing Accuracy 0.9273Training Accuracy 0.93125457\n",
      "Iter 4 Testing Accuracy 0.9208Training Accuracy 0.92634547\n",
      "Iter 5 Testing Accuracy 0.9287Training Accuracy 0.936\n",
      "Iter 6 Testing Accuracy 0.9312Training Accuracy 0.93805456\n",
      "Iter 7 Testing Accuracy 0.9285Training Accuracy 0.9364182\n",
      "Iter 8 Testing Accuracy 0.9295Training Accuracy 0.93865454\n",
      "Iter 9 Testing Accuracy 0.9301Training Accuracy 0.9386182\n",
      "Iter 10 Testing Accuracy 0.9292Training Accuracy 0.9408909\n",
      "Iter 11 Testing Accuracy 0.9323Training Accuracy 0.944\n",
      "Iter 12 Testing Accuracy 0.9313Training Accuracy 0.9431818\n",
      "Iter 13 Testing Accuracy 0.9314Training Accuracy 0.9423636\n",
      "Iter 14 Testing Accuracy 0.9324Training Accuracy 0.9449091\n",
      "Iter 15 Testing Accuracy 0.9313Training Accuracy 0.9417273\n",
      "Iter 16 Testing Accuracy 0.9299Training Accuracy 0.9444\n",
      "Iter 17 Testing Accuracy 0.93Training Accuracy 0.94387275\n",
      "Iter 18 Testing Accuracy 0.9269Training Accuracy 0.9427636\n",
      "Iter 19 Testing Accuracy 0.9277Training Accuracy 0.9422182\n",
      "Iter 20 Testing Accuracy 0.9302Training Accuracy 0.9444\n",
      "Iter 21 Testing Accuracy 0.9293Training Accuracy 0.9444909\n",
      "Iter 22 Testing Accuracy 0.931Training Accuracy 0.9426182\n",
      "Iter 23 Testing Accuracy 0.9298Training Accuracy 0.9479091\n",
      "Iter 24 Testing Accuracy 0.9313Training Accuracy 0.94698185\n",
      "Iter 25 Testing Accuracy 0.9307Training Accuracy 0.9459091\n",
      "Iter 26 Testing Accuracy 0.93Training Accuracy 0.9460727\n",
      "Iter 27 Testing Accuracy 0.9309Training Accuracy 0.94927275\n",
      "Iter 28 Testing Accuracy 0.9311Training Accuracy 0.9490909\n",
      "Iter 29 Testing Accuracy 0.9306Training Accuracy 0.9485818\n",
      "Iter 30 Testing Accuracy 0.9309Training Accuracy 0.94976366\n"
     ]
    }
   ],
   "source": [
    "mnist = input_data.read_data_sets(\"MNIST_data\", one_hot=True)\n",
    "batch_size = 100\n",
    "n_batch = mnist.train.num_examples // batch_size\n",
    "\n",
    "x = tf.placeholder(tf.float32, [None, 784])\n",
    "y = tf.placeholder(tf.float32, [None, 10])\n",
    "\n",
    "W = tf.Variable(tf.truncated_normal([784, 10], stddev=0.1))\n",
    "b = tf.Variable(tf.zeros([10])+0.1)\n",
    "prediction = tf.nn.softmax(tf.matmul(x, W) + b)\n",
    "\n",
    "loss = tf.reduce_mean(tf.nn.softmax_cross_entropy_with_logits_v2(labels=y, logits=prediction))\n",
    "# train_step = tf.train.GradientDescentOptimizer(0.2).minimize(loss)\n",
    "train_step = tf.train.AdamOptimizer(1e-2).minimize(loss)\n",
    "\n",
    "init = tf.global_variables_initializer()\n",
    "correct_prediction = tf.equal(tf.argmax(y, 1), tf.argmax(prediction, 1))\n",
    "\n",
    "accuracy = tf.reduce_mean(tf.cast(correct_prediction, tf.float32))\n",
    "\n",
    "with tf.Session() as sess:\n",
    "    sess.run(init)\n",
    "    for epoch in range(31):\n",
    "        for batch in range(n_batch):\n",
    "            batch_xs, batch_ys = mnist.train.next_batch(batch_size)\n",
    "            sess.run(train_step, feed_dict={x:batch_xs, y:batch_ys})\n",
    "            \n",
    "        test_acc = sess.run(accuracy, feed_dict={x:mnist.test.images, y:mnist.test.labels})\n",
    "        train_acc = sess.run(accuracy, feed_dict={x:mnist.train.images, y:mnist.train.labels})\n",
    "        print(\"Iter \" + str(epoch) + \" Testing Accuracy \" + str(test_acc) + \"Training Accuracy \" + str(train_acc))"
   ]
  },
  {
   "cell_type": "code",
   "execution_count": null,
   "metadata": {},
   "outputs": [],
   "source": []
  }
 ],
 "metadata": {
  "kernelspec": {
   "display_name": "Python 3",
   "language": "python",
   "name": "python3"
  },
  "language_info": {
   "codemirror_mode": {
    "name": "ipython",
    "version": 3
   },
   "file_extension": ".py",
   "mimetype": "text/x-python",
   "name": "python",
   "nbconvert_exporter": "python",
   "pygments_lexer": "ipython3",
   "version": "3.6.7"
  }
 },
 "nbformat": 4,
 "nbformat_minor": 2
}
